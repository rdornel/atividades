{
    "metadata": {
        "kernelspec": {
            "name": "SQL",
            "display_name": "SQL",
            "language": "sql"
        },
        "language_info": {
            "name": "sql",
            "version": ""
        }
    },
    "nbformat_minor": 2,
    "nbformat": 4,
    "cells": [
        {
            "cell_type": "markdown",
            "source": [
                "Esse notebook é sobre a atividade da criaçaõ de um banco de dados para armazenar e processar as notas dos alunos."
            ],
            "metadata": {
                "azdata_cell_guid": "53eacfe1-1ff6-4b0e-9a2f-37eac4fd4d92"
            },
            "attachments": {}
        },
        {
            "cell_type": "code",
            "source": [
                "CREATE DATABASE UNIVERSIDADE_ATIVIDADE;\r\n",
                "USE UNIVERSIDADE_ATIVIDADE;\r\n",
                "\r\n",
                "CREATE TABLE [dbo].[ALUNOS](\r\n",
                "\t[MATRICULA] [int] IDENTITY(1,1) NOT NULL,\r\n",
                "\t[NOME] [varchar](50) NOT NULL,\r\n",
                " CONSTRAINT [PK_ALUNO] PRIMARY KEY  ([MATRICULA] ASC));\r\n",
                "\r\n",
                ""
            ],
            "metadata": {
                "azdata_cell_guid": "f199f007-0038-4165-bc2e-38197c57f7e9",
                "language": "sql"
            },
            "outputs": [
                {
                    "output_type": "error",
                    "ename": "",
                    "evalue": "Msg 911, Level 16, State 1, Line 2\r\nDatabase 'UNIVERSIDADE_ATIVIDADE' does not exist. Make sure that the name is entered correctly.",
                    "traceback": []
                },
                {
                    "output_type": "display_data",
                    "data": {
                        "text/html": "Total execution time: 00:00:00.022"
                    },
                    "metadata": {}
                }
            ],
            "execution_count": 1
        }
    ]
}